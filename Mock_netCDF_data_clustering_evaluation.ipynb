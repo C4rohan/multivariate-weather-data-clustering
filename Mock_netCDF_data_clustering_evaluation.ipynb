{
  "nbformat": 4,
  "nbformat_minor": 0,
  "metadata": {
    "colab": {
      "name": "Mock_netCDF_data_clustering_evaluation.ipynb",
      "provenance": [],
      "collapsed_sections": [],
      "include_colab_link": true
    },
    "kernelspec": {
      "name": "python3",
      "display_name": "Python 3"
    },
    "language_info": {
      "name": "python"
    }
  },
  "cells": [
    {
      "cell_type": "markdown",
      "metadata": {
        "id": "view-in-github",
        "colab_type": "text"
      },
      "source": [
        "<a href=\"https://colab.research.google.com/github/C4rohan/multivariate-weather-data-clustering/blob/main/Mock_netCDF_data_clustering_evaluation.ipynb\" target=\"_parent\"><img src=\"https://colab.research.google.com/assets/colab-badge.svg\" alt=\"Open In Colab\"/></a>"
      ]
    },
    {
      "cell_type": "code",
      "source": [
        "from google.colab import drive\n",
        "drive.mount('/content/drive')"
      ],
      "metadata": {
        "colab": {
          "base_uri": "https://localhost:8080/"
        },
        "id": "lnB-B82w1Ayi",
        "outputId": "754d4f8f-97d9-411e-f5d0-7d0bac9453db"
      },
      "execution_count": null,
      "outputs": [
        {
          "output_type": "stream",
          "name": "stdout",
          "text": [
            "Mounted at /content/drive\n"
          ]
        }
      ]
    },
    {
      "cell_type": "code",
      "source": [
        "#!pip install cftime\n",
        "!pip install utils"
      ],
      "metadata": {
        "id": "igK8-NbKluOT",
        "colab": {
          "base_uri": "https://localhost:8080/"
        },
        "outputId": "dcc7ca4e-ca08-4998-b338-a3913dce3e1a"
      },
      "execution_count": null,
      "outputs": [
        {
          "output_type": "stream",
          "name": "stdout",
          "text": [
            "Looking in indexes: https://pypi.org/simple, https://us-python.pkg.dev/colab-wheels/public/simple/\n",
            "Collecting utils\n",
            "  Downloading utils-1.0.1-py2.py3-none-any.whl (21 kB)\n",
            "Installing collected packages: utils\n",
            "Successfully installed utils-1.0.1\n"
          ]
        }
      ]
    },
    {
      "cell_type": "code",
      "execution_count": null,
      "metadata": {
        "id": "yyjtuIqi5nOS"
      },
      "outputs": [],
      "source": [
        "import netCDF4\n",
        "import netCDF4 as nc\n",
        "import pandas as pd\n",
        "import numpy as np\n",
        "import xarray as xr\n",
        "import datetime\n",
        "import datetime as dt\n",
        "from netCDF4 import date2num,num2date\n",
        "import cftime\n",
        "from math import sqrt\n",
        "from sklearn.preprocessing import StandardScaler\n",
        "from sklearn.cluster import KMeans\n",
        "import utils\n",
        "import pandas as pd\n",
        "import numpy as np\n",
        "from itertools import cycle, islice\n",
        "import matplotlib.pyplot as plt\n",
        "from pandas.plotting import parallel_coordinates\n",
        "\n",
        "%matplotlib inline"
      ]
    },
    {
      "cell_type": "markdown",
      "source": [
        "#Read Data#"
      ],
      "metadata": {
        "id": "luNvwfipfuPj"
      }
    },
    {
      "cell_type": "code",
      "source": [
        "path2 = ('mock.nc')\n",
        "data1 = xr.open_dataset(path2, decode_times=False) #To view the date as integers of 0, 1, 2,....\n",
        "data5 = xr.open_dataset(path2) # To view time in datetime format\n",
        "data1\n",
        "#data5['time']"
      ],
      "metadata": {
        "id": "ZnJQqgr3mOnW",
        "colab": {
          "base_uri": "https://localhost:8080/",
          "height": 311
        },
        "outputId": "9ec02571-c1b7-4220-d8a4-ea7d0ba020f7"
      },
      "execution_count": null,
      "outputs": [
        {
          "output_type": "execute_result",
          "data": {
            "text/plain": [
              "<xarray.Dataset>\n",
              "Dimensions:  (time: 20, lat: 10, lon: 10)\n",
              "Coordinates:\n",
              "  * time     (time) int64 -9223372036854775806 ... -9223372036854775806\n",
              "  * lat      (lat) float32 27.0 28.0 29.0 30.0 31.0 32.0 33.0 34.0 35.0 36.0\n",
              "  * lon      (lon) float32 77.0 78.0 79.0 80.0 81.0 82.0 83.0 84.0 85.0 86.0\n",
              "Data variables:\n",
              "    sst      (time, lat, lon) float32 ...\n",
              "    t2m      (time, lat, lon) float32 ..."
            ],
            "text/html": [
              "<div><svg style=\"position: absolute; width: 0; height: 0; overflow: hidden\">\n",
              "<defs>\n",
              "<symbol id=\"icon-database\" viewBox=\"0 0 32 32\">\n",
              "<path d=\"M16 0c-8.837 0-16 2.239-16 5v4c0 2.761 7.163 5 16 5s16-2.239 16-5v-4c0-2.761-7.163-5-16-5z\"></path>\n",
              "<path d=\"M16 17c-8.837 0-16-2.239-16-5v6c0 2.761 7.163 5 16 5s16-2.239 16-5v-6c0 2.761-7.163 5-16 5z\"></path>\n",
              "<path d=\"M16 26c-8.837 0-16-2.239-16-5v6c0 2.761 7.163 5 16 5s16-2.239 16-5v-6c0 2.761-7.163 5-16 5z\"></path>\n",
              "</symbol>\n",
              "<symbol id=\"icon-file-text2\" viewBox=\"0 0 32 32\">\n",
              "<path d=\"M28.681 7.159c-0.694-0.947-1.662-2.053-2.724-3.116s-2.169-2.030-3.116-2.724c-1.612-1.182-2.393-1.319-2.841-1.319h-15.5c-1.378 0-2.5 1.121-2.5 2.5v27c0 1.378 1.122 2.5 2.5 2.5h23c1.378 0 2.5-1.122 2.5-2.5v-19.5c0-0.448-0.137-1.23-1.319-2.841zM24.543 5.457c0.959 0.959 1.712 1.825 2.268 2.543h-4.811v-4.811c0.718 0.556 1.584 1.309 2.543 2.268zM28 29.5c0 0.271-0.229 0.5-0.5 0.5h-23c-0.271 0-0.5-0.229-0.5-0.5v-27c0-0.271 0.229-0.5 0.5-0.5 0 0 15.499-0 15.5 0v7c0 0.552 0.448 1 1 1h7v19.5z\"></path>\n",
              "<path d=\"M23 26h-14c-0.552 0-1-0.448-1-1s0.448-1 1-1h14c0.552 0 1 0.448 1 1s-0.448 1-1 1z\"></path>\n",
              "<path d=\"M23 22h-14c-0.552 0-1-0.448-1-1s0.448-1 1-1h14c0.552 0 1 0.448 1 1s-0.448 1-1 1z\"></path>\n",
              "<path d=\"M23 18h-14c-0.552 0-1-0.448-1-1s0.448-1 1-1h14c0.552 0 1 0.448 1 1s-0.448 1-1 1z\"></path>\n",
              "</symbol>\n",
              "</defs>\n",
              "</svg>\n",
              "<style>/* CSS stylesheet for displaying xarray objects in jupyterlab.\n",
              " *\n",
              " */\n",
              "\n",
              ":root {\n",
              "  --xr-font-color0: var(--jp-content-font-color0, rgba(0, 0, 0, 1));\n",
              "  --xr-font-color2: var(--jp-content-font-color2, rgba(0, 0, 0, 0.54));\n",
              "  --xr-font-color3: var(--jp-content-font-color3, rgba(0, 0, 0, 0.38));\n",
              "  --xr-border-color: var(--jp-border-color2, #e0e0e0);\n",
              "  --xr-disabled-color: var(--jp-layout-color3, #bdbdbd);\n",
              "  --xr-background-color: var(--jp-layout-color0, white);\n",
              "  --xr-background-color-row-even: var(--jp-layout-color1, white);\n",
              "  --xr-background-color-row-odd: var(--jp-layout-color2, #eeeeee);\n",
              "}\n",
              "\n",
              "html[theme=dark],\n",
              "body.vscode-dark {\n",
              "  --xr-font-color0: rgba(255, 255, 255, 1);\n",
              "  --xr-font-color2: rgba(255, 255, 255, 0.54);\n",
              "  --xr-font-color3: rgba(255, 255, 255, 0.38);\n",
              "  --xr-border-color: #1F1F1F;\n",
              "  --xr-disabled-color: #515151;\n",
              "  --xr-background-color: #111111;\n",
              "  --xr-background-color-row-even: #111111;\n",
              "  --xr-background-color-row-odd: #313131;\n",
              "}\n",
              "\n",
              ".xr-wrap {\n",
              "  display: block !important;\n",
              "  min-width: 300px;\n",
              "  max-width: 700px;\n",
              "}\n",
              "\n",
              ".xr-text-repr-fallback {\n",
              "  /* fallback to plain text repr when CSS is not injected (untrusted notebook) */\n",
              "  display: none;\n",
              "}\n",
              "\n",
              ".xr-header {\n",
              "  padding-top: 6px;\n",
              "  padding-bottom: 6px;\n",
              "  margin-bottom: 4px;\n",
              "  border-bottom: solid 1px var(--xr-border-color);\n",
              "}\n",
              "\n",
              ".xr-header > div,\n",
              ".xr-header > ul {\n",
              "  display: inline;\n",
              "  margin-top: 0;\n",
              "  margin-bottom: 0;\n",
              "}\n",
              "\n",
              ".xr-obj-type,\n",
              ".xr-array-name {\n",
              "  margin-left: 2px;\n",
              "  margin-right: 10px;\n",
              "}\n",
              "\n",
              ".xr-obj-type {\n",
              "  color: var(--xr-font-color2);\n",
              "}\n",
              "\n",
              ".xr-sections {\n",
              "  padding-left: 0 !important;\n",
              "  display: grid;\n",
              "  grid-template-columns: 150px auto auto 1fr 20px 20px;\n",
              "}\n",
              "\n",
              ".xr-section-item {\n",
              "  display: contents;\n",
              "}\n",
              "\n",
              ".xr-section-item input {\n",
              "  display: none;\n",
              "}\n",
              "\n",
              ".xr-section-item input + label {\n",
              "  color: var(--xr-disabled-color);\n",
              "}\n",
              "\n",
              ".xr-section-item input:enabled + label {\n",
              "  cursor: pointer;\n",
              "  color: var(--xr-font-color2);\n",
              "}\n",
              "\n",
              ".xr-section-item input:enabled + label:hover {\n",
              "  color: var(--xr-font-color0);\n",
              "}\n",
              "\n",
              ".xr-section-summary {\n",
              "  grid-column: 1;\n",
              "  color: var(--xr-font-color2);\n",
              "  font-weight: 500;\n",
              "}\n",
              "\n",
              ".xr-section-summary > span {\n",
              "  display: inline-block;\n",
              "  padding-left: 0.5em;\n",
              "}\n",
              "\n",
              ".xr-section-summary-in:disabled + label {\n",
              "  color: var(--xr-font-color2);\n",
              "}\n",
              "\n",
              ".xr-section-summary-in + label:before {\n",
              "  display: inline-block;\n",
              "  content: '►';\n",
              "  font-size: 11px;\n",
              "  width: 15px;\n",
              "  text-align: center;\n",
              "}\n",
              "\n",
              ".xr-section-summary-in:disabled + label:before {\n",
              "  color: var(--xr-disabled-color);\n",
              "}\n",
              "\n",
              ".xr-section-summary-in:checked + label:before {\n",
              "  content: '▼';\n",
              "}\n",
              "\n",
              ".xr-section-summary-in:checked + label > span {\n",
              "  display: none;\n",
              "}\n",
              "\n",
              ".xr-section-summary,\n",
              ".xr-section-inline-details {\n",
              "  padding-top: 4px;\n",
              "  padding-bottom: 4px;\n",
              "}\n",
              "\n",
              ".xr-section-inline-details {\n",
              "  grid-column: 2 / -1;\n",
              "}\n",
              "\n",
              ".xr-section-details {\n",
              "  display: none;\n",
              "  grid-column: 1 / -1;\n",
              "  margin-bottom: 5px;\n",
              "}\n",
              "\n",
              ".xr-section-summary-in:checked ~ .xr-section-details {\n",
              "  display: contents;\n",
              "}\n",
              "\n",
              ".xr-array-wrap {\n",
              "  grid-column: 1 / -1;\n",
              "  display: grid;\n",
              "  grid-template-columns: 20px auto;\n",
              "}\n",
              "\n",
              ".xr-array-wrap > label {\n",
              "  grid-column: 1;\n",
              "  vertical-align: top;\n",
              "}\n",
              "\n",
              ".xr-preview {\n",
              "  color: var(--xr-font-color3);\n",
              "}\n",
              "\n",
              ".xr-array-preview,\n",
              ".xr-array-data {\n",
              "  padding: 0 5px !important;\n",
              "  grid-column: 2;\n",
              "}\n",
              "\n",
              ".xr-array-data,\n",
              ".xr-array-in:checked ~ .xr-array-preview {\n",
              "  display: none;\n",
              "}\n",
              "\n",
              ".xr-array-in:checked ~ .xr-array-data,\n",
              ".xr-array-preview {\n",
              "  display: inline-block;\n",
              "}\n",
              "\n",
              ".xr-dim-list {\n",
              "  display: inline-block !important;\n",
              "  list-style: none;\n",
              "  padding: 0 !important;\n",
              "  margin: 0;\n",
              "}\n",
              "\n",
              ".xr-dim-list li {\n",
              "  display: inline-block;\n",
              "  padding: 0;\n",
              "  margin: 0;\n",
              "}\n",
              "\n",
              ".xr-dim-list:before {\n",
              "  content: '(';\n",
              "}\n",
              "\n",
              ".xr-dim-list:after {\n",
              "  content: ')';\n",
              "}\n",
              "\n",
              ".xr-dim-list li:not(:last-child):after {\n",
              "  content: ',';\n",
              "  padding-right: 5px;\n",
              "}\n",
              "\n",
              ".xr-has-index {\n",
              "  font-weight: bold;\n",
              "}\n",
              "\n",
              ".xr-var-list,\n",
              ".xr-var-item {\n",
              "  display: contents;\n",
              "}\n",
              "\n",
              ".xr-var-item > div,\n",
              ".xr-var-item label,\n",
              ".xr-var-item > .xr-var-name span {\n",
              "  background-color: var(--xr-background-color-row-even);\n",
              "  margin-bottom: 0;\n",
              "}\n",
              "\n",
              ".xr-var-item > .xr-var-name:hover span {\n",
              "  padding-right: 5px;\n",
              "}\n",
              "\n",
              ".xr-var-list > li:nth-child(odd) > div,\n",
              ".xr-var-list > li:nth-child(odd) > label,\n",
              ".xr-var-list > li:nth-child(odd) > .xr-var-name span {\n",
              "  background-color: var(--xr-background-color-row-odd);\n",
              "}\n",
              "\n",
              ".xr-var-name {\n",
              "  grid-column: 1;\n",
              "}\n",
              "\n",
              ".xr-var-dims {\n",
              "  grid-column: 2;\n",
              "}\n",
              "\n",
              ".xr-var-dtype {\n",
              "  grid-column: 3;\n",
              "  text-align: right;\n",
              "  color: var(--xr-font-color2);\n",
              "}\n",
              "\n",
              ".xr-var-preview {\n",
              "  grid-column: 4;\n",
              "}\n",
              "\n",
              ".xr-var-name,\n",
              ".xr-var-dims,\n",
              ".xr-var-dtype,\n",
              ".xr-preview,\n",
              ".xr-attrs dt {\n",
              "  white-space: nowrap;\n",
              "  overflow: hidden;\n",
              "  text-overflow: ellipsis;\n",
              "  padding-right: 10px;\n",
              "}\n",
              "\n",
              ".xr-var-name:hover,\n",
              ".xr-var-dims:hover,\n",
              ".xr-var-dtype:hover,\n",
              ".xr-attrs dt:hover {\n",
              "  overflow: visible;\n",
              "  width: auto;\n",
              "  z-index: 1;\n",
              "}\n",
              "\n",
              ".xr-var-attrs,\n",
              ".xr-var-data {\n",
              "  display: none;\n",
              "  background-color: var(--xr-background-color) !important;\n",
              "  padding-bottom: 5px !important;\n",
              "}\n",
              "\n",
              ".xr-var-attrs-in:checked ~ .xr-var-attrs,\n",
              ".xr-var-data-in:checked ~ .xr-var-data {\n",
              "  display: block;\n",
              "}\n",
              "\n",
              ".xr-var-data > table {\n",
              "  float: right;\n",
              "}\n",
              "\n",
              ".xr-var-name span,\n",
              ".xr-var-data,\n",
              ".xr-attrs {\n",
              "  padding-left: 25px !important;\n",
              "}\n",
              "\n",
              ".xr-attrs,\n",
              ".xr-var-attrs,\n",
              ".xr-var-data {\n",
              "  grid-column: 1 / -1;\n",
              "}\n",
              "\n",
              "dl.xr-attrs {\n",
              "  padding: 0;\n",
              "  margin: 0;\n",
              "  display: grid;\n",
              "  grid-template-columns: 125px auto;\n",
              "}\n",
              "\n",
              ".xr-attrs dt,\n",
              ".xr-attrs dd {\n",
              "  padding: 0;\n",
              "  margin: 0;\n",
              "  float: left;\n",
              "  padding-right: 10px;\n",
              "  width: auto;\n",
              "}\n",
              "\n",
              ".xr-attrs dt {\n",
              "  font-weight: normal;\n",
              "  grid-column: 1;\n",
              "}\n",
              "\n",
              ".xr-attrs dt:hover span {\n",
              "  display: inline-block;\n",
              "  background: var(--xr-background-color);\n",
              "  padding-right: 10px;\n",
              "}\n",
              "\n",
              ".xr-attrs dd {\n",
              "  grid-column: 2;\n",
              "  white-space: pre-wrap;\n",
              "  word-break: break-all;\n",
              "}\n",
              "\n",
              ".xr-icon-database,\n",
              ".xr-icon-file-text2 {\n",
              "  display: inline-block;\n",
              "  vertical-align: middle;\n",
              "  width: 1em;\n",
              "  height: 1.5em !important;\n",
              "  stroke-width: 0;\n",
              "  stroke: currentColor;\n",
              "  fill: currentColor;\n",
              "}\n",
              "</style><pre class='xr-text-repr-fallback'>&lt;xarray.Dataset&gt;\n",
              "Dimensions:  (time: 20, lat: 10, lon: 10)\n",
              "Coordinates:\n",
              "  * time     (time) int64 -9223372036854775806 ... -9223372036854775806\n",
              "  * lat      (lat) float32 27.0 28.0 29.0 30.0 31.0 32.0 33.0 34.0 35.0 36.0\n",
              "  * lon      (lon) float32 77.0 78.0 79.0 80.0 81.0 82.0 83.0 84.0 85.0 86.0\n",
              "Data variables:\n",
              "    sst      (time, lat, lon) float32 1.0 1.0 1.0 1.0 ... 100.0 100.0 100.0\n",
              "    t2m      (time, lat, lon) float32 5.0 5.0 5.0 5.0 ... -5.0 -5.0 -5.0 -5.0</pre><div class='xr-wrap' style='display:none'><div class='xr-header'><div class='xr-obj-type'>xarray.Dataset</div></div><ul class='xr-sections'><li class='xr-section-item'><input id='section-d0e57385-068e-476a-b63b-085110035c6e' class='xr-section-summary-in' type='checkbox' disabled ><label for='section-d0e57385-068e-476a-b63b-085110035c6e' class='xr-section-summary'  title='Expand/collapse section'>Dimensions:</label><div class='xr-section-inline-details'><ul class='xr-dim-list'><li><span class='xr-has-index'>time</span>: 20</li><li><span class='xr-has-index'>lat</span>: 10</li><li><span class='xr-has-index'>lon</span>: 10</li></ul></div><div class='xr-section-details'></div></li><li class='xr-section-item'><input id='section-c4b92acd-ba9e-4b39-b056-fdb891f2e2d5' class='xr-section-summary-in' type='checkbox'  checked><label for='section-c4b92acd-ba9e-4b39-b056-fdb891f2e2d5' class='xr-section-summary' >Coordinates: <span>(3)</span></label><div class='xr-section-inline-details'></div><div class='xr-section-details'><ul class='xr-var-list'><li class='xr-var-item'><div class='xr-var-name'><span class='xr-has-index'>time</span></div><div class='xr-var-dims'>(time)</div><div class='xr-var-dtype'>int64</div><div class='xr-var-preview xr-preview'>-9223372036854775806 ... -922337...</div><input id='attrs-db419b30-2dc8-407f-a62f-468368a75e40' class='xr-var-attrs-in' type='checkbox' disabled><label for='attrs-db419b30-2dc8-407f-a62f-468368a75e40' title='Show/Hide attributes'><svg class='icon xr-icon-file-text2'><use xlink:href='#icon-file-text2'></use></svg></label><input id='data-f36d7db2-822b-4390-9220-84ea20e34cfd' class='xr-var-data-in' type='checkbox'><label for='data-f36d7db2-822b-4390-9220-84ea20e34cfd' title='Show/Hide data repr'><svg class='icon xr-icon-database'><use xlink:href='#icon-database'></use></svg></label><div class='xr-var-attrs'><dl class='xr-attrs'></dl></div><div class='xr-var-data'><pre>array([-9223372036854775806, -9223372036854775806, -9223372036854775806,\n",
              "       -9223372036854775806, -9223372036854775806, -9223372036854775806,\n",
              "       -9223372036854775806, -9223372036854775806, -9223372036854775806,\n",
              "       -9223372036854775806, -9223372036854775806, -9223372036854775806,\n",
              "       -9223372036854775806, -9223372036854775806, -9223372036854775806,\n",
              "       -9223372036854775806, -9223372036854775806, -9223372036854775806,\n",
              "       -9223372036854775806, -9223372036854775806])</pre></div></li><li class='xr-var-item'><div class='xr-var-name'><span class='xr-has-index'>lat</span></div><div class='xr-var-dims'>(lat)</div><div class='xr-var-dtype'>float32</div><div class='xr-var-preview xr-preview'>27.0 28.0 29.0 ... 34.0 35.0 36.0</div><input id='attrs-7cd774e7-c00b-4ed9-888a-e83a88b0df9a' class='xr-var-attrs-in' type='checkbox' disabled><label for='attrs-7cd774e7-c00b-4ed9-888a-e83a88b0df9a' title='Show/Hide attributes'><svg class='icon xr-icon-file-text2'><use xlink:href='#icon-file-text2'></use></svg></label><input id='data-278b6aea-bff2-4dae-805d-e90e33b411d7' class='xr-var-data-in' type='checkbox'><label for='data-278b6aea-bff2-4dae-805d-e90e33b411d7' title='Show/Hide data repr'><svg class='icon xr-icon-database'><use xlink:href='#icon-database'></use></svg></label><div class='xr-var-attrs'><dl class='xr-attrs'></dl></div><div class='xr-var-data'><pre>array([27., 28., 29., 30., 31., 32., 33., 34., 35., 36.], dtype=float32)</pre></div></li><li class='xr-var-item'><div class='xr-var-name'><span class='xr-has-index'>lon</span></div><div class='xr-var-dims'>(lon)</div><div class='xr-var-dtype'>float32</div><div class='xr-var-preview xr-preview'>77.0 78.0 79.0 ... 84.0 85.0 86.0</div><input id='attrs-6322d140-1ebb-4618-9e7d-6ca712cb6040' class='xr-var-attrs-in' type='checkbox' disabled><label for='attrs-6322d140-1ebb-4618-9e7d-6ca712cb6040' title='Show/Hide attributes'><svg class='icon xr-icon-file-text2'><use xlink:href='#icon-file-text2'></use></svg></label><input id='data-522abc7d-355f-4eed-ac00-4097781293a9' class='xr-var-data-in' type='checkbox'><label for='data-522abc7d-355f-4eed-ac00-4097781293a9' title='Show/Hide data repr'><svg class='icon xr-icon-database'><use xlink:href='#icon-database'></use></svg></label><div class='xr-var-attrs'><dl class='xr-attrs'></dl></div><div class='xr-var-data'><pre>array([77., 78., 79., 80., 81., 82., 83., 84., 85., 86.], dtype=float32)</pre></div></li></ul></div></li><li class='xr-section-item'><input id='section-961b6874-8f59-4b6e-83bf-333423145214' class='xr-section-summary-in' type='checkbox'  checked><label for='section-961b6874-8f59-4b6e-83bf-333423145214' class='xr-section-summary' >Data variables: <span>(2)</span></label><div class='xr-section-inline-details'></div><div class='xr-section-details'><ul class='xr-var-list'><li class='xr-var-item'><div class='xr-var-name'><span>sst</span></div><div class='xr-var-dims'>(time, lat, lon)</div><div class='xr-var-dtype'>float32</div><div class='xr-var-preview xr-preview'>...</div><input id='attrs-dfe4f0c3-9b4d-4aff-b59a-c50aba5fb08d' class='xr-var-attrs-in' type='checkbox' ><label for='attrs-dfe4f0c3-9b4d-4aff-b59a-c50aba5fb08d' title='Show/Hide attributes'><svg class='icon xr-icon-file-text2'><use xlink:href='#icon-file-text2'></use></svg></label><input id='data-05b3da10-88fb-4b86-abd9-2883b5f90f63' class='xr-var-data-in' type='checkbox'><label for='data-05b3da10-88fb-4b86-abd9-2883b5f90f63' title='Show/Hide data repr'><svg class='icon xr-icon-database'><use xlink:href='#icon-database'></use></svg></label><div class='xr-var-attrs'><dl class='xr-attrs'><dt><span>units :</span></dt><dd>degrees</dd></dl></div><div class='xr-var-data'><pre>array([[[  1.,   1., ...,   1.,   1.],\n",
              "        [  1.,   1., ...,   1.,   1.],\n",
              "        ...,\n",
              "        [  1.,   1., ...,   1.,   1.],\n",
              "        [  1.,   1., ...,   1.,   1.]],\n",
              "\n",
              "       [[  1.,   1., ...,   1.,   1.],\n",
              "        [  1.,   1., ...,   1.,   1.],\n",
              "        ...,\n",
              "        [  1.,   1., ...,   1.,   1.],\n",
              "        [  1.,   1., ...,   1.,   1.]],\n",
              "\n",
              "       ...,\n",
              "\n",
              "       [[100., 100., ..., 100., 100.],\n",
              "        [100., 100., ..., 100., 100.],\n",
              "        ...,\n",
              "        [100., 100., ..., 100., 100.],\n",
              "        [100., 100., ..., 100., 100.]],\n",
              "\n",
              "       [[100., 100., ..., 100., 100.],\n",
              "        [100., 100., ..., 100., 100.],\n",
              "        ...,\n",
              "        [100., 100., ..., 100., 100.],\n",
              "        [100., 100., ..., 100., 100.]]], dtype=float32)</pre></div></li><li class='xr-var-item'><div class='xr-var-name'><span>t2m</span></div><div class='xr-var-dims'>(time, lat, lon)</div><div class='xr-var-dtype'>float32</div><div class='xr-var-preview xr-preview'>...</div><input id='attrs-484a81a9-36fe-48ec-85ad-afbb493d9866' class='xr-var-attrs-in' type='checkbox' ><label for='attrs-484a81a9-36fe-48ec-85ad-afbb493d9866' title='Show/Hide attributes'><svg class='icon xr-icon-file-text2'><use xlink:href='#icon-file-text2'></use></svg></label><input id='data-2d9481b7-852a-4dad-b0c3-62137a12e054' class='xr-var-data-in' type='checkbox'><label for='data-2d9481b7-852a-4dad-b0c3-62137a12e054' title='Show/Hide data repr'><svg class='icon xr-icon-database'><use xlink:href='#icon-database'></use></svg></label><div class='xr-var-attrs'><dl class='xr-attrs'><dt><span>units :</span></dt><dd>degrees</dd></dl></div><div class='xr-var-data'><pre>array([[[ 5.,  5., ...,  5.,  5.],\n",
              "        [ 5.,  5., ...,  5.,  5.],\n",
              "        ...,\n",
              "        [ 5.,  5., ...,  5.,  5.],\n",
              "        [ 5.,  5., ...,  5.,  5.]],\n",
              "\n",
              "       [[ 5.,  5., ...,  5.,  5.],\n",
              "        [ 5.,  5., ...,  5.,  5.],\n",
              "        ...,\n",
              "        [ 5.,  5., ...,  5.,  5.],\n",
              "        [ 5.,  5., ...,  5.,  5.]],\n",
              "\n",
              "       ...,\n",
              "\n",
              "       [[-5., -5., ..., -5., -5.],\n",
              "        [-5., -5., ..., -5., -5.],\n",
              "        ...,\n",
              "        [-5., -5., ..., -5., -5.],\n",
              "        [-5., -5., ..., -5., -5.]],\n",
              "\n",
              "       [[-5., -5., ..., -5., -5.],\n",
              "        [-5., -5., ..., -5., -5.],\n",
              "        ...,\n",
              "        [-5., -5., ..., -5., -5.],\n",
              "        [-5., -5., ..., -5., -5.]]], dtype=float32)</pre></div></li></ul></div></li><li class='xr-section-item'><input id='section-4630b74a-304e-42dd-8ae4-5e13445e8284' class='xr-section-summary-in' type='checkbox' disabled ><label for='section-4630b74a-304e-42dd-8ae4-5e13445e8284' class='xr-section-summary'  title='Expand/collapse section'>Attributes: <span>(0)</span></label><div class='xr-section-inline-details'></div><div class='xr-section-details'><dl class='xr-attrs'></dl></div></li></ul></div></div>"
            ]
          },
          "metadata": {},
          "execution_count": 4
        }
      ]
    },
    {
      "cell_type": "code",
      "source": [
        ""
      ],
      "metadata": {
        "colab": {
          "base_uri": "https://localhost:8080/"
        },
        "id": "ChQRqOgMC2bV",
        "outputId": "652e976a-6e8b-4607-eaee-679de788fccd"
      },
      "execution_count": null,
      "outputs": [
        {
          "output_type": "execute_result",
          "data": {
            "text/plain": [
              "<function xarray.core.dataarray.DataArray.shape>"
            ]
          },
          "metadata": {},
          "execution_count": 15
        }
      ]
    },
    {
      "cell_type": "code",
      "source": [
        "\n",
        "time=data5['time']\n",
        "t2m=data5['t2m']\n",
        "lat=data5['lat']\n",
        "lon=data5['lon']\n",
        "\n",
        "arr = np.array(lat)\n",
        "np.size(arr)"
      ],
      "metadata": {
        "colab": {
          "base_uri": "https://localhost:8080/"
        },
        "id": "8yVMjfSWVXAJ",
        "outputId": "02d80a2f-2b44-4ffe-c7fa-c77050f9eb46"
      },
      "execution_count": null,
      "outputs": [
        {
          "output_type": "execute_result",
          "data": {
            "text/plain": [
              "10"
            ]
          },
          "metadata": {},
          "execution_count": 21
        }
      ]
    },
    {
      "cell_type": "code",
      "source": [
        "%reset"
      ],
      "metadata": {
        "colab": {
          "base_uri": "https://localhost:8080/"
        },
        "id": "7C4QGsSLD-RC",
        "outputId": "7135fe93-49a6-4025-ce21-9694d597fa9a"
      },
      "execution_count": null,
      "outputs": [
        {
          "name": "stdout",
          "output_type": "stream",
          "text": [
            "Once deleted, variables cannot be recovered. Proceed (y/[n])? y\n"
          ]
        }
      ]
    },
    {
      "cell_type": "code",
      "source": [
        "sst = data5.sst\n",
        "sst"
      ],
      "metadata": {
        "id": "s_lBeT9vg1KV"
      },
      "execution_count": null,
      "outputs": []
    },
    {
      "cell_type": "code",
      "source": [
        "t2m = data5.t2m\n",
        "t2m"
      ],
      "metadata": {
        "id": "Kfv0fpqghBdF"
      },
      "execution_count": null,
      "outputs": []
    },
    {
      "cell_type": "markdown",
      "source": [
        "#Caculate RMSE between 2 days of SST"
      ],
      "metadata": {
        "id": "iqLhBiF3Asdv"
      }
    },
    {
      "cell_type": "code",
      "source": [
        "diff = sst[0] - sst[1]\n",
        "Sq_diff = (diff**2)\n",
        "Sq_diff\n"
      ],
      "metadata": {
        "id": "nAiM8uOOhqDZ"
      },
      "execution_count": null,
      "outputs": []
    },
    {
      "cell_type": "code",
      "source": [
        "Sq_diff_sum = sum(map(sum, Sq_diff.to_numpy()))\n",
        "Sqrt_diff_sum = np.sqrt(Sq_diff_sum)\n",
        "print(\"RMSE between SST[0] and SST[1]:\", Sqrt_diff_sum)"
      ],
      "metadata": {
        "id": "9dtikTH2if6y",
        "colab": {
          "base_uri": "https://localhost:8080/"
        },
        "outputId": "1748eb36-f641-44a0-d5eb-a72b3706e724"
      },
      "execution_count": null,
      "outputs": [
        {
          "output_type": "stream",
          "name": "stdout",
          "text": [
            "RMSE between SST[0] and SST[1]: 0.0\n"
          ]
        }
      ]
    },
    {
      "cell_type": "code",
      "source": [
        "def rmse_2d(day1, day2):\n",
        "  diff = day1 - day2\n",
        "  Sq_diff = (diff**2)\n",
        "  Sq_diff_sum = sum(map(sum, Sq_diff.to_numpy()))\n",
        "  return np.sqrt(Sq_diff_sum)"
      ],
      "metadata": {
        "id": "VCKE210xk2d2"
      },
      "execution_count": null,
      "outputs": []
    },
    {
      "cell_type": "markdown",
      "source": [
        "##Intra Cluster RMSE"
      ],
      "metadata": {
        "id": "SS4060XCj7ia"
      }
    },
    {
      "cell_type": "code",
      "source": [
        "mean_sst_1 = np.mean(sst[0:10], axis=0)\n",
        "mean_sst_1"
      ],
      "metadata": {
        "id": "O58tMnCWkS6C"
      },
      "execution_count": null,
      "outputs": []
    },
    {
      "cell_type": "code",
      "source": [
        "mean_t2m_1 = np.mean(t2m[0:10], axis=0)\n",
        "mean_t2m_1"
      ],
      "metadata": {
        "id": "rRC5oxEOwA5G"
      },
      "execution_count": null,
      "outputs": []
    },
    {
      "cell_type": "code",
      "source": [
        "intra_rmse_value = 0.0\n",
        "for i in range(len(sst[0:10])):\n",
        "  intra_rmse_value += rmse_2d(sst[i], mean_sst_1)\n",
        "print(i)\n",
        "print(\"RMSE among SST[0:10]:\", intra_rmse_value/(i+1))\n"
      ],
      "metadata": {
        "id": "fgRLkNw0j6rC"
      },
      "execution_count": null,
      "outputs": []
    },
    {
      "cell_type": "code",
      "source": [
        "intra_rmse_value = 0.0\n",
        "for i in range(len(sst[0:10])):\n",
        "  intra_rmse_value += rmse_2d(sst[i], mean_sst_1)\n",
        "\n",
        "for j in range(len(t2m[0:10])):\n",
        "  intra_rmse_value += rmse_2d(t2m[j], mean_t2m_1)\n",
        "intra_rmse_cluster_1 = intra_rmse_value/(i+1+j+1)\n",
        "print(\"RMSE among cluster 1 (day1-day10):\", intra_rmse_cluster_1)"
      ],
      "metadata": {
        "id": "iBV20gwUvpuy",
        "colab": {
          "base_uri": "https://localhost:8080/"
        },
        "outputId": "3ff61e4d-6cfb-4878-9ebe-aaa48bdd6d56"
      },
      "execution_count": null,
      "outputs": [
        {
          "output_type": "stream",
          "name": "stdout",
          "text": [
            "RMSE among cluster 1 (day1-day10): 0.0\n"
          ]
        }
      ]
    },
    {
      "cell_type": "code",
      "source": [
        "intra_rmse_value = 0.0\n",
        "mean_sst_2 = np.mean(sst[10:20], axis=0)\n",
        "#\n",
        "mean_t2m_2 = np.mean(t2m[10:20], axis=0)\n",
        "for i in range(len(sst[10:20])):\n",
        "  intra_rmse_value += rmse_2d(sst[i+10], mean_sst_2)\n",
        "\n",
        "for j in range(len(t2m[10:20])):\n",
        "  intra_rmse_value += rmse_2d(t2m[j+10], mean_t2m_2)\n",
        "print(\"RMSE among cluster 2 (day11-day20):\", intra_rmse_value/20)"
      ],
      "metadata": {
        "id": "_DQCg2R7wi4L"
      },
      "execution_count": null,
      "outputs": []
    },
    {
      "cell_type": "markdown",
      "source": [
        "##Inter Cluster RMSE"
      ],
      "metadata": {
        "id": "B0a7n733ghza"
      }
    },
    {
      "cell_type": "code",
      "source": [
        "inter_rmse_value_sst = rmse_2d(mean_sst_1, mean_sst_2)\n",
        "print(\"RMSE between clusters 1 and 2 for SST:\", inter_rmse_value_sst)\n",
        "inter_rmse_value_t2m = rmse_2d(mean_t2m_1, mean_t2m_2)\n",
        "print(\"RMSE between clusters 1 and 2 for T2M:\", inter_rmse_value_t2m)\n",
        "intra_rmse_value = (inter_rmse_value_sst + inter_rmse_value_t2m)/2\n",
        "print(\"RMSE among clusters 1 and 2:\", intra_rmse_value)"
      ],
      "metadata": {
        "id": "9HxOcH-aglKy"
      },
      "execution_count": null,
      "outputs": []
    }
  ]
}